{
 "cells": [
  {
   "cell_type": "code",
   "execution_count": 2,
   "id": "2ef8d1c5-9bf7-473d-a30f-0777e47e188b",
   "metadata": {},
   "outputs": [
    {
     "name": "stdout",
     "output_type": "stream",
     "text": [
      "1.26.4\n"
     ]
    }
   ],
   "source": [
    "import numpy as np\n",
    "print(np.__version__) # type of version and to check whether numpy install or not."
   ]
  },
  {
   "cell_type": "code",
   "execution_count": 16,
   "id": "faceaed0-e462-4e81-acb9-817cfc20f7d7",
   "metadata": {},
   "outputs": [],
   "source": [
    "a=np.array([1,2,3,4,5]) # one dimension al array"
   ]
  },
  {
   "cell_type": "code",
   "execution_count": 57,
   "id": "1e955d4d-268f-4b60-8951-3bceb3bb46e6",
   "metadata": {},
   "outputs": [
    {
     "data": {
      "text/plain": [
       "array([ 1,  2,  3, 55, 65])"
      ]
     },
     "execution_count": 57,
     "metadata": {},
     "output_type": "execute_result"
    }
   ],
   "source": [
    "a"
   ]
  },
  {
   "cell_type": "code",
   "execution_count": 26,
   "id": "2de15f83-99c7-4152-be88-f371222ce9d8",
   "metadata": {},
   "outputs": [
    {
     "data": {
      "text/plain": [
       "3"
      ]
     },
     "execution_count": 26,
     "metadata": {},
     "output_type": "execute_result"
    }
   ],
   "source": [
    "a[2] # accessing the elemnts using list"
   ]
  },
  {
   "cell_type": "code",
   "execution_count": 29,
   "id": "d3f55869-2d2e-429f-b150-96a19be82a0f",
   "metadata": {},
   "outputs": [],
   "source": [
    "a[3]=7 # The array is mutable"
   ]
  },
  {
   "cell_type": "code",
   "execution_count": 30,
   "id": "d08074c6-458b-4df5-8534-187075b101c3",
   "metadata": {},
   "outputs": [
    {
     "data": {
      "text/plain": [
       "array([1, 2, 3, 7, 5])"
      ]
     },
     "execution_count": 30,
     "metadata": {},
     "output_type": "execute_result"
    }
   ],
   "source": [
    "a"
   ]
  },
  {
   "cell_type": "code",
   "execution_count": 31,
   "id": "d26a8684-52f2-4c2a-948a-d1b1d6723516",
   "metadata": {},
   "outputs": [
    {
     "data": {
      "text/plain": [
       "array([1, 2, 3, 7])"
      ]
     },
     "execution_count": 31,
     "metadata": {},
     "output_type": "execute_result"
    }
   ],
   "source": [
    "a[:4]  # Python slice notation can be used for indexing"
   ]
  },
  {
   "cell_type": "code",
   "execution_count": 44,
   "id": "3f1fa6de-5afa-4f9a-9471-d50930e6426e",
   "metadata": {},
   "outputs": [
    {
     "data": {
      "text/plain": [
       "array([ 1,  2,  3, 55, 65])"
      ]
     },
     "execution_count": 44,
     "metadata": {},
     "output_type": "execute_result"
    }
   ],
   "source": [
    "a"
   ]
  },
  {
   "cell_type": "code",
   "execution_count": 45,
   "id": "ad7d7d44-2fee-4ad8-86e8-69211d0a9508",
   "metadata": {},
   "outputs": [
    {
     "data": {
      "text/plain": [
       "(5,)"
      ]
     },
     "execution_count": 45,
     "metadata": {},
     "output_type": "execute_result"
    }
   ],
   "source": [
    "a.shape # shape tell about no.of columns and no.of rows "
   ]
  },
  {
   "cell_type": "code",
   "execution_count": 37,
   "id": "a0bbbb05-f025-465c-817e-a0cc9861ca2b",
   "metadata": {},
   "outputs": [],
   "source": [
    "c=a[3:]"
   ]
  },
  {
   "cell_type": "code",
   "execution_count": 38,
   "id": "2f92f1a4-318a-45b5-ae02-02636d2e3e94",
   "metadata": {},
   "outputs": [
    {
     "data": {
      "text/plain": [
       "array([40,  5])"
      ]
     },
     "execution_count": 38,
     "metadata": {},
     "output_type": "execute_result"
    }
   ],
   "source": [
    "c"
   ]
  },
  {
   "cell_type": "code",
   "execution_count": 39,
   "id": "d653757d-e086-4871-8e94-bc6e5d3088e6",
   "metadata": {},
   "outputs": [],
   "source": [
    "c[0]=55"
   ]
  },
  {
   "cell_type": "code",
   "execution_count": 41,
   "id": "e403f847-c954-44cf-b5e6-69266edb07d6",
   "metadata": {},
   "outputs": [],
   "source": [
    "c[1]=65"
   ]
  },
  {
   "cell_type": "code",
   "execution_count": 42,
   "id": "a4198805-524a-4ae0-b5b5-d7dd5eae5d2e",
   "metadata": {},
   "outputs": [
    {
     "data": {
      "text/plain": [
       "array([ 1,  2,  3, 55, 65])"
      ]
     },
     "execution_count": 42,
     "metadata": {},
     "output_type": "execute_result"
    }
   ],
   "source": [
    "a"
   ]
  },
  {
   "cell_type": "code",
   "execution_count": null,
   "id": "c79c4e61-92b2-4cb8-81d8-4329deb19e28",
   "metadata": {},
   "outputs": [],
   "source": []
  },
  {
   "cell_type": "code",
   "execution_count": 18,
   "id": "dad4e046-27c6-4e6d-bf30-2d1b770d82ff",
   "metadata": {},
   "outputs": [],
   "source": [
    "b=np.array([[1,2,3,4,5],\n",
    "           [5,6,7,8,9]]) # 2D array\n",
    "#The shape must be “rectangular”, not “jagged”; e.g., each row of a two-dimensional array must have the same number of columns."
   ]
  },
  {
   "cell_type": "code",
   "execution_count": 19,
   "id": "6192fb8c-f184-4934-95ab-24853f633f6b",
   "metadata": {},
   "outputs": [
    {
     "data": {
      "text/plain": [
       "array([[1, 2, 3, 4, 5],\n",
       "       [5, 6, 7, 8, 9]])"
      ]
     },
     "execution_count": 19,
     "metadata": {},
     "output_type": "execute_result"
    }
   ],
   "source": [
    "b"
   ]
  },
  {
   "cell_type": "code",
   "execution_count": 21,
   "id": "ce15a973-3bc9-4c7b-a147-32e9ed7d7052",
   "metadata": {},
   "outputs": [
    {
     "data": {
      "text/plain": [
       "(2, 5)"
      ]
     },
     "execution_count": 21,
     "metadata": {},
     "output_type": "execute_result"
    }
   ],
   "source": [
    "b.shape"
   ]
  },
  {
   "cell_type": "markdown",
   "id": "63210938-fd43-4e36-a2ce-b7a55a024df0",
   "metadata": {},
   "source": [
    "# Array attributes"
   ]
  },
  {
   "cell_type": "code",
   "execution_count": 61,
   "id": "04ad0f0b-448f-4369-859a-169a1471cff4",
   "metadata": {},
   "outputs": [],
   "source": [
    "arr=np.array([1,2,3,4,5])"
   ]
  },
  {
   "cell_type": "code",
   "execution_count": 62,
   "id": "d0c36572-d722-4cdb-9689-451112524dbc",
   "metadata": {},
   "outputs": [
    {
     "data": {
      "text/plain": [
       "array([1, 2, 3, 4, 5])"
      ]
     },
     "execution_count": 62,
     "metadata": {},
     "output_type": "execute_result"
    }
   ],
   "source": [
    "arr"
   ]
  },
  {
   "cell_type": "code",
   "execution_count": 64,
   "id": "4f252afe-6a5b-4ee6-9465-39ba4f54f6e3",
   "metadata": {},
   "outputs": [
    {
     "data": {
      "text/plain": [
       "1"
      ]
     },
     "execution_count": 64,
     "metadata": {},
     "output_type": "execute_result"
    }
   ],
   "source": [
    "arr.ndim  # he number of dimensions of an array is contained in the ndim attribute."
   ]
  },
  {
   "cell_type": "code",
   "execution_count": 69,
   "id": "6fb8beb7-b9db-45fa-b417-a043c23f4476",
   "metadata": {},
   "outputs": [],
   "source": [
    "ab=np.array([[1,23,45],[75,99,63]])"
   ]
  },
  {
   "cell_type": "code",
   "execution_count": 70,
   "id": "ea159d67-6c49-40d7-9cbd-e3c349984be9",
   "metadata": {},
   "outputs": [
    {
     "data": {
      "text/plain": [
       "array([[ 1, 23, 45],\n",
       "       [75, 99, 63]])"
      ]
     },
     "execution_count": 70,
     "metadata": {},
     "output_type": "execute_result"
    }
   ],
   "source": [
    "ab"
   ]
  },
  {
   "cell_type": "code",
   "execution_count": 71,
   "id": "4401f9e5-5dbd-410d-9e4f-4264fc2b7328",
   "metadata": {},
   "outputs": [
    {
     "data": {
      "text/plain": [
       "2"
      ]
     },
     "execution_count": 71,
     "metadata": {},
     "output_type": "execute_result"
    }
   ],
   "source": [
    "ab.ndim"
   ]
  },
  {
   "cell_type": "code",
   "execution_count": 79,
   "id": "e1dfb225-1ef3-4189-8d8c-e5c99786d707",
   "metadata": {},
   "outputs": [],
   "source": [
    "three=np.array([[[1,2,3],[4,5,6]],[[7,8,9],[5,6,9]]])"
   ]
  },
  {
   "cell_type": "code",
   "execution_count": 80,
   "id": "0df1cd49-8659-4121-8dfd-fbb6fa532801",
   "metadata": {},
   "outputs": [
    {
     "data": {
      "text/plain": [
       "array([[[1, 2, 3],\n",
       "        [4, 5, 6]],\n",
       "\n",
       "       [[7, 8, 9],\n",
       "        [5, 6, 9]]])"
      ]
     },
     "execution_count": 80,
     "metadata": {},
     "output_type": "execute_result"
    }
   ],
   "source": [
    "three"
   ]
  },
  {
   "cell_type": "code",
   "execution_count": 81,
   "id": "2982fefe-65f5-4829-96b0-f4e3e3996cae",
   "metadata": {},
   "outputs": [
    {
     "data": {
      "text/plain": [
       "3"
      ]
     },
     "execution_count": 81,
     "metadata": {},
     "output_type": "execute_result"
    }
   ],
   "source": [
    "three.ndim # three dimensional"
   ]
  },
  {
   "cell_type": "code",
   "execution_count": 92,
   "id": "57cddccb-32f5-465e-8089-26d73abe225c",
   "metadata": {},
   "outputs": [],
   "source": [
    "four=np.array([\n",
    "    [[[1,2,3],[3,4,5]]],\n",
    "              \n",
    "              [[[4,5,7],[8,9,2]]]\n",
    "              \n",
    "              ])"
   ]
  },
  {
   "cell_type": "code",
   "execution_count": 93,
   "id": "5d90cd86-da1c-48da-8862-ec302bcb853f",
   "metadata": {},
   "outputs": [
    {
     "data": {
      "text/plain": [
       "4"
      ]
     },
     "execution_count": 93,
     "metadata": {},
     "output_type": "execute_result"
    }
   ],
   "source": [
    "four.ndim # Four dimensions"
   ]
  },
  {
   "cell_type": "markdown",
   "id": "f279b662-b12d-49fd-a837-3c3c0449633e",
   "metadata": {},
   "source": [
    "# Shape (pecify the number of elements along each dimension.)"
   ]
  },
  {
   "cell_type": "code",
   "execution_count": 95,
   "id": "fab1fe63-bc9c-4410-a08b-c6c5346c39fc",
   "metadata": {},
   "outputs": [
    {
     "data": {
      "text/plain": [
       "(5,)"
      ]
     },
     "execution_count": 95,
     "metadata": {},
     "output_type": "execute_result"
    }
   ],
   "source": [
    "arr.shape"
   ]
  },
  {
   "cell_type": "code",
   "execution_count": 96,
   "id": "21acf12e-4036-4a0b-8f01-63598587dab5",
   "metadata": {},
   "outputs": [
    {
     "data": {
      "text/plain": [
       "(2, 3)"
      ]
     },
     "execution_count": 96,
     "metadata": {},
     "output_type": "execute_result"
    }
   ],
   "source": [
    "ab.shape"
   ]
  },
  {
   "cell_type": "code",
   "execution_count": 97,
   "id": "055efc74-5f2b-490d-aa15-5191d7b59eab",
   "metadata": {},
   "outputs": [
    {
     "data": {
      "text/plain": [
       "(2, 2, 3)"
      ]
     },
     "execution_count": 97,
     "metadata": {},
     "output_type": "execute_result"
    }
   ],
   "source": [
    "three.shape"
   ]
  },
  {
   "cell_type": "code",
   "execution_count": 99,
   "id": "e85804ef-cfac-4be6-bf0b-6b9142fa3be4",
   "metadata": {},
   "outputs": [
    {
     "data": {
      "text/plain": [
       "True"
      ]
     },
     "execution_count": 99,
     "metadata": {},
     "output_type": "execute_result"
    }
   ],
   "source": [
    "len(arr.shape)==arr.ndim"
   ]
  },
  {
   "cell_type": "code",
   "execution_count": 100,
   "id": "d1672b7b-338e-4a97-8e3d-c6fb8269a3de",
   "metadata": {},
   "outputs": [
    {
     "data": {
      "text/plain": [
       "True"
      ]
     },
     "execution_count": 100,
     "metadata": {},
     "output_type": "execute_result"
    }
   ],
   "source": [
    "len(ab.shape)==ab.ndim"
   ]
  },
  {
   "cell_type": "code",
   "execution_count": 101,
   "id": "3ea85c14-8d68-4a94-b2f6-d77801ce5100",
   "metadata": {},
   "outputs": [
    {
     "data": {
      "text/plain": [
       "False"
      ]
     },
     "execution_count": 101,
     "metadata": {},
     "output_type": "execute_result"
    }
   ],
   "source": [
    "len(three)==three.ndim"
   ]
  },
  {
   "cell_type": "markdown",
   "id": "6a332f79-afa2-4d79-860d-275eea0536c7",
   "metadata": {},
   "source": [
    "# size "
   ]
  },
  {
   "cell_type": "code",
   "execution_count": 102,
   "id": "ae18856a-1397-4872-bf12-841edcc54524",
   "metadata": {},
   "outputs": [
    {
     "data": {
      "text/plain": [
       "5"
      ]
     },
     "execution_count": 102,
     "metadata": {},
     "output_type": "execute_result"
    }
   ],
   "source": [
    "a.size"
   ]
  },
  {
   "cell_type": "code",
   "execution_count": 103,
   "id": "a683e0e5-8ed5-407a-9e8f-034e9b1129bd",
   "metadata": {},
   "outputs": [
    {
     "data": {
      "text/plain": [
       "6"
      ]
     },
     "execution_count": 103,
     "metadata": {},
     "output_type": "execute_result"
    }
   ],
   "source": [
    "ab.size"
   ]
  },
  {
   "cell_type": "code",
   "execution_count": 104,
   "id": "5e391e9a-14c4-49ab-ad81-0dcf98122117",
   "metadata": {},
   "outputs": [
    {
     "data": {
      "text/plain": [
       "12"
      ]
     },
     "execution_count": 104,
     "metadata": {},
     "output_type": "execute_result"
    }
   ],
   "source": [
    "three.size"
   ]
  },
  {
   "cell_type": "markdown",
   "id": "0e22c170-6e26-4ea1-a6f7-456c6881ffc5",
   "metadata": {},
   "source": [
    "# dtype"
   ]
  },
  {
   "cell_type": "code",
   "execution_count": 106,
   "id": "060d9ca1-f20b-4541-8b07-598716dfe555",
   "metadata": {},
   "outputs": [
    {
     "data": {
      "text/plain": [
       "dtype('int32')"
      ]
     },
     "execution_count": 106,
     "metadata": {},
     "output_type": "execute_result"
    }
   ],
   "source": [
    "a.dtype"
   ]
  },
  {
   "cell_type": "code",
   "execution_count": 109,
   "id": "78908c51-4846-4751-9918-cf40da275a8d",
   "metadata": {},
   "outputs": [
    {
     "data": {
      "text/plain": [
       "dtype('int32')"
      ]
     },
     "execution_count": 109,
     "metadata": {},
     "output_type": "execute_result"
    }
   ],
   "source": [
    "arr.dtype"
   ]
  },
  {
   "cell_type": "code",
   "execution_count": 110,
   "id": "98938d98-43b6-4366-bf69-81493bd5260b",
   "metadata": {},
   "outputs": [
    {
     "data": {
      "text/plain": [
       "dtype('int32')"
      ]
     },
     "execution_count": 110,
     "metadata": {},
     "output_type": "execute_result"
    }
   ],
   "source": [
    "four.dtype"
   ]
  }
 ],
 "metadata": {
  "kernelspec": {
   "display_name": "Python 3 (ipykernel)",
   "language": "python",
   "name": "python3"
  },
  "language_info": {
   "codemirror_mode": {
    "name": "ipython",
    "version": 3
   },
   "file_extension": ".py",
   "mimetype": "text/x-python",
   "name": "python",
   "nbconvert_exporter": "python",
   "pygments_lexer": "ipython3",
   "version": "3.12.7"
  }
 },
 "nbformat": 4,
 "nbformat_minor": 5
}
